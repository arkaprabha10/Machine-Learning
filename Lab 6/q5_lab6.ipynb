{
 "cells": [
  {
   "cell_type": "code",
   "execution_count": 5,
   "metadata": {
    "id": "jR30KOyl9bMZ"
   },
   "outputs": [],
   "source": [
    "import numpy as np\n",
    "import pandas as pd\n",
    "from matplotlib import pyplot as plt\n",
    "from sklearn.datasets import fetch_openml\n",
    "import seaborn as sns\n",
    "%matplotlib inline\n",
    "from sklearn.preprocessing import StandardScaler\n",
    "from sklearn import decomposition\n"
   ]
  },
  {
   "cell_type": "code",
   "execution_count": 4,
   "metadata": {
    "colab": {
     "base_uri": "https://localhost:8080/"
    },
    "id": "rKsVF9SWT_Dk",
    "outputId": "eb282354-3e17-45f9-cf4f-1fe6acba0e53"
   },
   "outputs": [
    {
     "name": "stdout",
     "output_type": "stream",
     "text": [
      "(70000, 784)\n"
     ]
    }
   ],
   "source": [
    "mnist = fetch_openml('mnist_784')\n",
    "x = mnist.data\n",
    "y = mnist.target\n",
    "normalizedData = StandardScaler().fit_transform(x)\n",
    "print(normalizedData.shape)"
   ]
  },
  {
   "cell_type": "code",
   "execution_count": 21,
   "metadata": {
    "id": "f_ZsBF0jUiGl"
   },
   "outputs": [],
   "source": [
    "pca = decomposition.PCA()\n",
    "pca.n_components = 784\n",
    "pca_data = pca.fit_transform(normalizedData)\n",
    "percentage_var_explained = pca.explained_variance_ / np.sum(pca.explained_variance_) * 100\n",
    "cum_var_explained = np.cumsum(percentage_var_explained)\n"
   ]
  },
  {
   "cell_type": "code",
   "execution_count": 22,
   "metadata": {
    "colab": {
     "base_uri": "https://localhost:8080/",
     "height": 280
    },
    "id": "Yy04fpIQVI5t",
    "outputId": "3bc2488f-8c04-4726-bc0c-4d4b7e1dfc63"
   },
   "outputs": [
    {
     "data": {
      "image/png": "[encoded data removed]",
      "text/plain": [
       "<Figure size 432x288 with 1 Axes>"
      ]
     },
     "metadata": {
      "needs_background": "light"
     },
     "output_type": "display_data"
    }
   ],
   "source": [
    "plt.figure(1, figsize=(6, 4))\n",
    "plt.clf()\n",
    "plt.plot(cum_var_explained, linewidth=2, linestyle='--',color = '#3F5D7D')\n",
    "plt.axis('tight')\n",
    "plt.grid()\n",
    "plt.xlabel('n_components')\n",
    "plt.ylabel('Cumulative_explained_variance')\n",
    "plt.show()"
   ]
  },
  {
   "cell_type": "code",
   "execution_count": 14,
   "metadata": {
    "colab": {
     "base_uri": "https://localhost:8080/"
    },
    "id": "ybd43boyVeqY",
    "outputId": "b2717cc7-95f1-4500-d287-f7d266e7f3bd"
   },
   "outputs": [
    {
     "name": "stdout",
     "output_type": "stream",
     "text": [
      "Net % Variance explained by Principal Components is :85.01423243663403\n",
      "No of components to explain 85% Variance is (186,)\n"
     ]
    }
   ],
   "source": [
    "pca = decomposition.PCA(n_components=0.85)\n",
    "principalComponents = pca.fit_transform(normalizedData)\n",
    "print(\"Net % Variance explained by Principal Components is :\" + str(sum(pca.explained_variance_ratio_)*100))\n",
    "print(\"No of components to explain \" + str(85)+\"% Variance is\" ,pca.explained_variance_ratio_.shape)"
   ]
  }
 ],
 "metadata": {
  "colab": {
   "name": "q5_lab6.ipynb",
   "provenance": []
  },
  "kernelspec": {
   "display_name": "Python 3",
   "language": "python",
   "name": "python3"
  },
  "language_info": {
   "codemirror_mode": {
    "name": "ipython",
    "version": 3
   },
   "file_extension": ".py",
   "mimetype": "text/x-python",
   "name": "python",
   "nbconvert_exporter": "python",
   "pygments_lexer": "ipython3",
   "version": "3.8.5"
  }
 },
 "nbformat": 4,
 "nbformat_minor": 1
}
